{
 "cells": [
  {
   "cell_type": "code",
   "execution_count": 86,
   "id": "b18bc09e",
   "metadata": {},
   "outputs": [],
   "source": [
    "import json\n",
    "import urllib.request\n",
    "import time\n",
    "\n",
    "\n"
   ]
  },
  {
   "cell_type": "code",
   "execution_count": 101,
   "id": "2c237494",
   "metadata": {},
   "outputs": [],
   "source": [
    "# API Wrapper\n",
    "\n",
    "year = 2022\n",
    "\n",
    "url = fr\"https://ssd.jpl.nasa.gov/api/horizons.api?format=json&COMMAND='301'&OBJ_DATA='YES'&MAKE_EPHEM='YES'&EPHEM_TYPE='OBSERVER'&CENTER='500@399'&START_TIME='{year}-06-19'&STOP_TIME='{year}-07-30'&STEP_SIZE='1%20d'&QUANTITIES='24\""
   ]
  },
  {
   "cell_type": "code",
   "execution_count": 102,
   "id": "29dc6c24",
   "metadata": {
    "scrolled": true
   },
   "outputs": [],
   "source": [
    "response = urllib.request.urlopen(url)"
   ]
  },
  {
   "cell_type": "code",
   "execution_count": 103,
   "id": "08ef3ff6",
   "metadata": {
    "scrolled": false
   },
   "outputs": [],
   "source": [
    "result = json.loads(response.read())\n"
   ]
  },
  {
   "cell_type": "code",
   "execution_count": 106,
   "id": "f9fdc017",
   "metadata": {},
   "outputs": [
    {
     "data": {
      "text/plain": [
       "'\\n 2022-Jun-19 00:00      62.8473\\n 2022-Jun-20 00:00      75.7510\\n 2022-Jun-21 00:00      88.2319\\n 2022-Jun-22 00:00     100.3244\\n 2022-Jun-23 00:00     112.0807\\n 2022-Jun-24 00:00     123.5588\\n 2022-Jun-25 00:00     134.8143\\n 2022-Jun-26 00:00     145.8919\\n 2022-Jun-27 00:00     156.8117\\n 2022-Jun-28 00:00     167.4941\\n 2022-Jun-29 00:00     176.1789\\n 2022-Jun-30 00:00     169.4974\\n 2022-Jul-01 00:00     158.9261\\n 2022-Jul-02 00:00     148.0717\\n 2022-Jul-03 00:00     137.0699\\n 2022-Jul-04 00:00     125.9085\\n 2022-Jul-05 00:00     114.5451\\n 2022-Jul-06 00:00     102.9242\\n 2022-Jul-07 00:00      90.9859\\n 2022-Jul-08 00:00      78.6742\\n 2022-Jul-09 00:00      65.9477\\n 2022-Jul-10 00:00      52.7942\\n 2022-Jul-11 00:00      39.2495\\n 2022-Jul-12 00:00      25.4294\\n 2022-Jul-13 00:00      11.7209\\n 2022-Jul-14 00:00       5.5616\\n 2022-Jul-15 00:00      18.0848\\n 2022-Jul-16 00:00      31.7315\\n 2022-Jul-17 00:00      45.1413\\n 2022-Jul-18 00:00      58.1437\\n 2022-Jul-19 00:00      70.6965\\n 2022-Jul-20 00:00      82.8148\\n 2022-Jul-21 00:00      94.5471\\n 2022-Jul-22 00:00     105.9588\\n 2022-Jul-23 00:00     117.1212\\n 2022-Jul-24 00:00     128.1023\\n 2022-Jul-25 00:00     138.9593\\n 2022-Jul-26 00:00     149.7271\\n 2022-Jul-27 00:00     160.3816\\n 2022-Jul-28 00:00     170.5569\\n 2022-Jul-29 00:00     174.3242\\n 2022-Jul-30 00:00     165.1826\\n'"
      ]
     },
     "execution_count": 106,
     "metadata": {},
     "output_type": "execute_result"
    }
   ],
   "source": [
    "data = result['result'].partition('$$SOE')[2].partition('$$EOE')[0]\n",
    "data"
   ]
  },
  {
   "cell_type": "code",
   "execution_count": 145,
   "id": "1dbf5b29",
   "metadata": {},
   "outputs": [
    {
     "data": {
      "text/plain": [
       "[' 2022-Jun-19 00:00      62.8473',\n",
       " ' 2022-Jun-20 00:00      75.7510',\n",
       " ' 2022-Jun-21 00:00      88.2319',\n",
       " ' 2022-Jun-22 00:00     100.3244',\n",
       " ' 2022-Jun-23 00:00     112.0807',\n",
       " ' 2022-Jun-24 00:00     123.5588',\n",
       " ' 2022-Jun-25 00:00     134.8143',\n",
       " ' 2022-Jun-26 00:00     145.8919',\n",
       " ' 2022-Jun-27 00:00     156.8117',\n",
       " ' 2022-Jun-28 00:00     167.4941',\n",
       " ' 2022-Jun-29 00:00     176.1789',\n",
       " ' 2022-Jun-30 00:00     169.4974',\n",
       " ' 2022-Jul-01 00:00     158.9261',\n",
       " ' 2022-Jul-02 00:00     148.0717',\n",
       " ' 2022-Jul-03 00:00     137.0699',\n",
       " ' 2022-Jul-04 00:00     125.9085',\n",
       " ' 2022-Jul-05 00:00     114.5451',\n",
       " ' 2022-Jul-06 00:00     102.9242',\n",
       " ' 2022-Jul-07 00:00      90.9859',\n",
       " ' 2022-Jul-08 00:00      78.6742',\n",
       " ' 2022-Jul-09 00:00      65.9477',\n",
       " ' 2022-Jul-10 00:00      52.7942',\n",
       " ' 2022-Jul-11 00:00      39.2495',\n",
       " ' 2022-Jul-12 00:00      25.4294',\n",
       " ' 2022-Jul-13 00:00      11.7209',\n",
       " ' 2022-Jul-14 00:00       5.5616',\n",
       " ' 2022-Jul-15 00:00      18.0848',\n",
       " ' 2022-Jul-16 00:00      31.7315',\n",
       " ' 2022-Jul-17 00:00      45.1413',\n",
       " ' 2022-Jul-18 00:00      58.1437',\n",
       " ' 2022-Jul-19 00:00      70.6965',\n",
       " ' 2022-Jul-20 00:00      82.8148',\n",
       " ' 2022-Jul-21 00:00      94.5471',\n",
       " ' 2022-Jul-22 00:00     105.9588',\n",
       " ' 2022-Jul-23 00:00     117.1212',\n",
       " ' 2022-Jul-24 00:00     128.1023',\n",
       " ' 2022-Jul-25 00:00     138.9593',\n",
       " ' 2022-Jul-26 00:00     149.7271',\n",
       " ' 2022-Jul-27 00:00     160.3816',\n",
       " ' 2022-Jul-28 00:00     170.5569',\n",
       " ' 2022-Jul-29 00:00     174.3242',\n",
       " ' 2022-Jul-30 00:00     165.1826']"
      ]
     },
     "execution_count": 145,
     "metadata": {},
     "output_type": "execute_result"
    }
   ],
   "source": [
    "times = data.split('\\n')[1:-1]\n",
    "times"
   ]
  },
  {
   "cell_type": "code",
   "execution_count": 155,
   "id": "5423004a",
   "metadata": {},
   "outputs": [
    {
     "data": {
      "text/plain": [
       "[['2022-Jun-19', 62.8473],\n",
       " ['2022-Jun-20', 75.751],\n",
       " ['2022-Jun-21', 88.2319],\n",
       " ['2022-Jun-22', 100.3244],\n",
       " ['2022-Jun-23', 112.0807],\n",
       " ['2022-Jun-24', 123.5588],\n",
       " ['2022-Jun-25', 134.8143],\n",
       " ['2022-Jun-26', 145.8919],\n",
       " ['2022-Jun-27', 156.8117],\n",
       " ['2022-Jun-28', 167.4941],\n",
       " ['2022-Jun-29', 176.1789],\n",
       " ['2022-Jun-30', 169.4974],\n",
       " ['2022-Jul-01', 158.9261],\n",
       " ['2022-Jul-02', 148.0717],\n",
       " ['2022-Jul-03', 137.0699],\n",
       " ['2022-Jul-04', 125.9085],\n",
       " ['2022-Jul-05', 114.5451],\n",
       " ['2022-Jul-06', 102.9242],\n",
       " ['2022-Jul-07', 90.9859],\n",
       " ['2022-Jul-08', 78.6742],\n",
       " ['2022-Jul-09', 65.9477],\n",
       " ['2022-Jul-10', 52.7942],\n",
       " ['2022-Jul-11', 39.2495],\n",
       " ['2022-Jul-12', 25.4294],\n",
       " ['2022-Jul-13', 11.7209],\n",
       " ['2022-Jul-14', 5.5616],\n",
       " ['2022-Jul-15', 18.0848],\n",
       " ['2022-Jul-16', 31.7315],\n",
       " ['2022-Jul-17', 45.1413],\n",
       " ['2022-Jul-18', 58.1437],\n",
       " ['2022-Jul-19', 70.6965],\n",
       " ['2022-Jul-20', 82.8148],\n",
       " ['2022-Jul-21', 94.5471],\n",
       " ['2022-Jul-22', 105.9588],\n",
       " ['2022-Jul-23', 117.1212],\n",
       " ['2022-Jul-24', 128.1023],\n",
       " ['2022-Jul-25', 138.9593],\n",
       " ['2022-Jul-26', 149.7271],\n",
       " ['2022-Jul-27', 160.3816],\n",
       " ['2022-Jul-28', 170.5569],\n",
       " ['2022-Jul-29', 174.3242],\n",
       " ['2022-Jul-30', 165.1826]]"
      ]
     },
     "execution_count": 155,
     "metadata": {},
     "output_type": "execute_result"
    }
   ],
   "source": [
    "stos = [times[i].split() for i in range(len(times))]\n",
    "for x in stos:\n",
    "    x.remove('00:00')\n",
    "    x[1] = float(x[1])\n",
    "    \n",
    "stos"
   ]
  },
  {
   "cell_type": "code",
   "execution_count": 164,
   "id": "b281492d",
   "metadata": {},
   "outputs": [
    {
     "data": {
      "text/plain": [
       "'2022-Jun-21'"
      ]
     },
     "execution_count": 164,
     "metadata": {},
     "output_type": "execute_result"
    }
   ],
   "source": [
    "minimum = stos[0]\n",
    "for i in range(len(stos)-1):\n",
    "    if stos[i+1][1]-stos[i][1] > 0:\n",
    "        if abs(stos[i][1] - 90) < abs(minimum[1] - 90):\n",
    "            minimum = stos[i]\n",
    "            if stos[i+1][1]-stos[i][1] < 0:\n",
    "                break\n",
    "            \n",
    "            \n",
    "tangaroa = minimum[0]\n",
    "\n",
    "tangaroa"
   ]
  },
  {
   "cell_type": "code",
   "execution_count": 172,
   "id": "40579d85",
   "metadata": {},
   "outputs": [
    {
     "data": {
      "text/plain": [
       "datetime.datetime(2022, 6, 21, 0, 0)"
      ]
     },
     "execution_count": 172,
     "metadata": {},
     "output_type": "execute_result"
    }
   ],
   "source": [
    "from datetime import datetime\n",
    "date = datetime.strptime(tangaroa, '%Y-%b-%d')\n",
    "date"
   ]
  },
  {
   "cell_type": "code",
   "execution_count": 166,
   "id": "b082e48f",
   "metadata": {},
   "outputs": [],
   "source": [
    "from datetime import timedelta\n",
    "\n",
    "\n",
    "def getClosestFriday(d0):\n",
    "    # If it's a Saturday, the previous Friday is chosen instead of the next\n",
    "    if (d0.weekday() < 4):\n",
    "        return d0+timedelta(4-d0.weekday())\n",
    "    else:\n",
    "        return d0-timedelta(d0.weekday()-4)\n"
   ]
  },
  {
   "cell_type": "code",
   "execution_count": null,
   "id": "8756a078",
   "metadata": {},
   "outputs": [],
   "source": [
    "getClost"
   ]
  }
 ],
 "metadata": {
  "kernelspec": {
   "display_name": "tfod",
   "language": "python",
   "name": "tfod"
  },
  "language_info": {
   "codemirror_mode": {
    "name": "ipython",
    "version": 3
   },
   "file_extension": ".py",
   "mimetype": "text/x-python",
   "name": "python",
   "nbconvert_exporter": "python",
   "pygments_lexer": "ipython3",
   "version": "3.9.7"
  }
 },
 "nbformat": 4,
 "nbformat_minor": 5
}

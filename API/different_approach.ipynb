{
 "cells": [
  {
   "cell_type": "code",
   "execution_count": 181,
   "id": "ce5a66db",
   "metadata": {},
   "outputs": [],
   "source": [
    "import json\n",
    "import urllib.request\n",
    "import time"
   ]
  },
  {
   "cell_type": "code",
   "execution_count": 182,
   "id": "f6b9ee49",
   "metadata": {},
   "outputs": [],
   "source": [
    "# API Wrapper\n",
    "\n",
    "year = 2027\n",
    "\n",
    "url = fr\"https://ssd.jpl.nasa.gov/api/horizons.api?format=json&COMMAND='301'&OBJ_DATA='YES'&MAKE_EPHEM='YES'&EPHEM_TYPE='OBSERVER'&CENTER='500@399'&START_TIME='{year}-05-26'&STOP_TIME='{year}-07-30'&STEP_SIZE='24h'&QUANTITIES='24\""
   ]
  },
  {
   "cell_type": "code",
   "execution_count": 183,
   "id": "a27c8cab",
   "metadata": {
    "scrolled": true
   },
   "outputs": [],
   "source": [
    "response = urllib.request.urlopen(url)"
   ]
  },
  {
   "cell_type": "code",
   "execution_count": 184,
   "id": "6e759679",
   "metadata": {
    "scrolled": false
   },
   "outputs": [],
   "source": [
    "result = json.loads(response.read())\n"
   ]
  },
  {
   "cell_type": "code",
   "execution_count": 185,
   "id": "c7519522",
   "metadata": {},
   "outputs": [
    {
     "data": {
      "text/plain": [
       "'\\n 2027-May-26 00:00      61.6631\\n 2027-May-27 00:00      72.4944\\n 2027-May-28 00:00      83.4185\\n 2027-May-29 00:00      94.5139\\n 2027-May-30 00:00     105.8602\\n 2027-May-31 00:00     117.5302\\n 2027-Jun-01 00:00     129.5806\\n 2027-Jun-02 00:00     142.0364\\n 2027-Jun-03 00:00     154.8605\\n 2027-Jun-04 00:00     167.7883\\n 2027-Jun-05 00:00     175.0731\\n 2027-Jun-06 00:00     163.2703\\n 2027-Jun-07 00:00     149.5928\\n 2027-Jun-08 00:00     135.8194\\n 2027-Jun-09 00:00     122.1843\\n 2027-Jun-10 00:00     108.7973\\n 2027-Jun-11 00:00      95.7137\\n 2027-Jun-12 00:00      82.9506\\n 2027-Jun-13 00:00      70.5000\\n 2027-Jun-14 00:00      58.3396\\n 2027-Jun-15 00:00      46.4434\\n 2027-Jun-16 00:00      34.7902\\n 2027-Jun-17 00:00      23.3791\\n 2027-Jun-18 00:00      12.3086\\n 2027-Jun-19 00:00       3.6482\\n 2027-Jun-20 00:00      11.0601\\n 2027-Jun-21 00:00      21.7057\\n 2027-Jun-22 00:00      32.4829\\n 2027-Jun-23 00:00      43.2824\\n 2027-Jun-24 00:00      54.1255\\n 2027-Jun-25 00:00      65.0638\\n 2027-Jun-26 00:00      76.1634\\n 2027-Jun-27 00:00      87.4988\\n 2027-Jun-28 00:00      99.1464\\n 2027-Jun-29 00:00     111.1773\\n 2027-Jun-30 00:00     123.6467\\n 2027-Jul-01 00:00     136.5803\\n 2027-Jul-02 00:00     149.9577\\n 2027-Jul-03 00:00     163.6750\\n 2027-Jul-04 00:00     176.7160\\n 2027-Jul-05 00:00     167.5043\\n 2027-Jul-06 00:00     153.4398\\n 2027-Jul-07 00:00     139.4632\\n 2027-Jul-08 00:00     125.7774\\n 2027-Jul-09 00:00     112.4738\\n 2027-Jul-10 00:00      99.5869\\n 2027-Jul-11 00:00      87.1090\\n 2027-Jul-12 00:00      75.0048\\n 2027-Jul-13 00:00      63.2237\\n 2027-Jul-14 00:00      51.7100\\n 2027-Jul-15 00:00      40.4100\\n 2027-Jul-16 00:00      29.2770\\n 2027-Jul-17 00:00      18.2757\\n 2027-Jul-18 00:00       7.4195\\n 2027-Jul-19 00:00       3.8697\\n 2027-Jul-20 00:00      14.5343\\n 2027-Jul-21 00:00      25.3790\\n 2027-Jul-22 00:00      36.2894\\n 2027-Jul-23 00:00      47.2978\\n 2027-Jul-24 00:00      58.4537\\n 2027-Jul-25 00:00      69.8167\\n 2027-Jul-26 00:00      81.4528\\n 2027-Jul-27 00:00      93.4291\\n 2027-Jul-28 00:00     105.8068\\n 2027-Jul-29 00:00     118.6296\\n 2027-Jul-30 00:00     131.9114\\n'"
      ]
     },
     "execution_count": 185,
     "metadata": {},
     "output_type": "execute_result"
    }
   ],
   "source": [
    "data = result['result'].partition('$$SOE')[2].partition('$$EOE')[0]\n",
    "data"
   ]
  },
  {
   "cell_type": "code",
   "execution_count": 186,
   "id": "c0cd782d",
   "metadata": {
    "scrolled": false
   },
   "outputs": [
    {
     "data": {
      "text/plain": [
       "[['2027-May-26', '61.6631'],\n",
       " ['2027-May-27', '72.4944'],\n",
       " ['2027-May-28', '83.4185'],\n",
       " ['2027-May-29', '94.5139'],\n",
       " ['2027-May-30', '105.8602'],\n",
       " ['2027-May-31', '117.5302'],\n",
       " ['2027-Jun-01', '129.5806'],\n",
       " ['2027-Jun-02', '142.0364'],\n",
       " ['2027-Jun-03', '154.8605'],\n",
       " ['2027-Jun-04', '167.7883'],\n",
       " ['2027-Jun-05', '175.0731'],\n",
       " ['2027-Jun-06', '163.2703'],\n",
       " ['2027-Jun-07', '149.5928'],\n",
       " ['2027-Jun-08', '135.8194'],\n",
       " ['2027-Jun-09', '122.1843'],\n",
       " ['2027-Jun-10', '108.7973'],\n",
       " ['2027-Jun-11', '95.7137'],\n",
       " ['2027-Jun-12', '82.9506'],\n",
       " ['2027-Jun-13', '70.5000'],\n",
       " ['2027-Jun-14', '58.3396'],\n",
       " ['2027-Jun-15', '46.4434'],\n",
       " ['2027-Jun-16', '34.7902'],\n",
       " ['2027-Jun-17', '23.3791'],\n",
       " ['2027-Jun-18', '12.3086'],\n",
       " ['2027-Jun-19', '3.6482'],\n",
       " ['2027-Jun-20', '11.0601'],\n",
       " ['2027-Jun-21', '21.7057'],\n",
       " ['2027-Jun-22', '32.4829'],\n",
       " ['2027-Jun-23', '43.2824'],\n",
       " ['2027-Jun-24', '54.1255'],\n",
       " ['2027-Jun-25', '65.0638'],\n",
       " ['2027-Jun-26', '76.1634'],\n",
       " ['2027-Jun-27', '87.4988'],\n",
       " ['2027-Jun-28', '99.1464'],\n",
       " ['2027-Jun-29', '111.1773'],\n",
       " ['2027-Jun-30', '123.6467'],\n",
       " ['2027-Jul-01', '136.5803'],\n",
       " ['2027-Jul-02', '149.9577'],\n",
       " ['2027-Jul-03', '163.6750'],\n",
       " ['2027-Jul-04', '176.7160'],\n",
       " ['2027-Jul-05', '167.5043'],\n",
       " ['2027-Jul-06', '153.4398'],\n",
       " ['2027-Jul-07', '139.4632'],\n",
       " ['2027-Jul-08', '125.7774'],\n",
       " ['2027-Jul-09', '112.4738'],\n",
       " ['2027-Jul-10', '99.5869'],\n",
       " ['2027-Jul-11', '87.1090'],\n",
       " ['2027-Jul-12', '75.0048'],\n",
       " ['2027-Jul-13', '63.2237'],\n",
       " ['2027-Jul-14', '51.7100'],\n",
       " ['2027-Jul-15', '40.4100'],\n",
       " ['2027-Jul-16', '29.2770'],\n",
       " ['2027-Jul-17', '18.2757'],\n",
       " ['2027-Jul-18', '7.4195'],\n",
       " ['2027-Jul-19', '3.8697'],\n",
       " ['2027-Jul-20', '14.5343'],\n",
       " ['2027-Jul-21', '25.3790'],\n",
       " ['2027-Jul-22', '36.2894'],\n",
       " ['2027-Jul-23', '47.2978'],\n",
       " ['2027-Jul-24', '58.4537'],\n",
       " ['2027-Jul-25', '69.8167'],\n",
       " ['2027-Jul-26', '81.4528'],\n",
       " ['2027-Jul-27', '93.4291'],\n",
       " ['2027-Jul-28', '105.8068'],\n",
       " ['2027-Jul-29', '118.6296'],\n",
       " ['2027-Jul-30', '131.9114']]"
      ]
     },
     "execution_count": 186,
     "metadata": {},
     "output_type": "execute_result"
    }
   ],
   "source": [
    "times = data.split('\\n')[1:-1]\n",
    "stos = [times[i].split() for i in range(len(times))]\n",
    "\n",
    "for time in stos:\n",
    "    del time[1]\n",
    "    \n",
    "stos"
   ]
  },
  {
   "cell_type": "code",
   "execution_count": 187,
   "id": "c2622ae3",
   "metadata": {
    "scrolled": false
   },
   "outputs": [
    {
     "name": "stdout",
     "output_type": "stream",
     "text": [
      "(array([10, 39], dtype=int64),)\n"
     ]
    }
   ],
   "source": [
    "from scipy.signal import argrelextrema\n",
    "import numpy as np\n",
    "\n",
    "stos_cleaned = np.array(stos)[:,1].astype(float)\n",
    "\n",
    "new_moon = argrelextrema(stos_cleaned, np.greater)\n",
    "print(new_moon)"
   ]
  },
  {
   "cell_type": "code",
   "execution_count": 188,
   "id": "142fa51d",
   "metadata": {
    "scrolled": true
   },
   "outputs": [
    {
     "data": {
      "text/plain": [
       "['2027-Jun-05', '175.0731']"
      ]
     },
     "execution_count": 188,
     "metadata": {},
     "output_type": "execute_result"
    }
   ],
   "source": [
    "stos[new_moon[0][0]]"
   ]
  },
  {
   "cell_type": "code",
   "execution_count": 189,
   "id": "af4df19c",
   "metadata": {},
   "outputs": [
    {
     "data": {
      "text/plain": [
       "datetime.datetime(2027, 6, 28, 0, 0)"
      ]
     },
     "execution_count": 189,
     "metadata": {},
     "output_type": "execute_result"
    }
   ],
   "source": [
    "datetime.strptime(stos[new_moon[0][0]][0], '%Y-%b-%d') + TWENTYTHREEDAYS"
   ]
  },
  {
   "cell_type": "code",
   "execution_count": 190,
   "id": "79401631",
   "metadata": {},
   "outputs": [
    {
     "data": {
      "text/plain": [
       "['2027-Jul-04', '176.7160']"
      ]
     },
     "execution_count": 190,
     "metadata": {},
     "output_type": "execute_result"
    }
   ],
   "source": [
    "stos[new_moon[0][1]]"
   ]
  },
  {
   "cell_type": "code",
   "execution_count": 191,
   "id": "e974acbd",
   "metadata": {},
   "outputs": [
    {
     "data": {
      "text/plain": [
       "datetime.datetime(2027, 6, 28, 0, 0)"
      ]
     },
     "execution_count": 191,
     "metadata": {},
     "output_type": "execute_result"
    }
   ],
   "source": [
    "from datetime import datetime, timedelta\n",
    "\n",
    "TWENTYTHREEDAYS = timedelta(days=23)\n",
    "NINETEENJUNE = datetime(year, 6, 19)\n",
    "\n",
    "for new_month in new_moon[0]:\n",
    "    tangaroa = datetime.strptime(stos[new_month][0], '%Y-%b-%d') + TWENTYTHREEDAYS\n",
    "    if tangaroa > NINETEENJUNE:\n",
    "        break\n",
    "        \n",
    "# date = datetime.strptime(tangaroa, '%Y-%b-%d')\n",
    "# date\n",
    "tangaroa"
   ]
  },
  {
   "cell_type": "code",
   "execution_count": 192,
   "id": "45c4d466",
   "metadata": {},
   "outputs": [],
   "source": [
    "def getClosestFriday(d0):\n",
    "    # If it's a Saturday, the previous Friday is chosen instead of the next\n",
    "    if (d0.weekday() < 4):\n",
    "        return d0+timedelta(4-d0.weekday())\n",
    "    else:\n",
    "        return d0-timedelta(d0.weekday()-4)\n"
   ]
  },
  {
   "cell_type": "code",
   "execution_count": 193,
   "id": "22efb534",
   "metadata": {},
   "outputs": [
    {
     "data": {
      "text/plain": [
       "'2027-07-02'"
      ]
     },
     "execution_count": 193,
     "metadata": {},
     "output_type": "execute_result"
    }
   ],
   "source": [
    "matariki = getClosestFriday(tangaroa).strftime('%Y-%m-%d')\n",
    "matariki"
   ]
  }
 ],
 "metadata": {
  "kernelspec": {
   "display_name": "Python 3 (ipykernel)",
   "language": "python",
   "name": "python3"
  },
  "language_info": {
   "codemirror_mode": {
    "name": "ipython",
    "version": 3
   },
   "file_extension": ".py",
   "mimetype": "text/x-python",
   "name": "python",
   "nbconvert_exporter": "python",
   "pygments_lexer": "ipython3",
   "version": "3.9.7"
  }
 },
 "nbformat": 4,
 "nbformat_minor": 5
}
